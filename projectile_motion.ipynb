import numpy as np
import matplotlib.pyplot as plt

# Constants and initial conditions
g = 9.8  # Acceleration due to gravity (m/s^2)
v0 = 50  # Initial velocity (m/s)
theta = 45  # Angle of projection (degrees)
t_total = 2 * v0 * np.sin(np.radians(theta)) / g  # Total time of flight

# Generate time points (0 to t_total, with 100 steps)
t = np.linspace(0, t_total, num=100)

# Calculate x and y positions at each time step
x = v0 * np.cos(np.radians(theta)) * t
y = v0 * np.sin(np.radians(theta)) * t - 0.5 * g * t**2

# Plotting the trajectory
plt.figure(figsize=(8, 6))
plt.plot(x, y, label="Projectile Path", marker='o')
plt.title("Projectile Motion Simulation")
plt.xlabel("Horizontal Distance (m)")
plt.ylabel("Vertical Distance (m)")
plt.grid(True)
plt.legend()
plt.show()
